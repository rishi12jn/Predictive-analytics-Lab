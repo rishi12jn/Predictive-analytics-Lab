{
  "nbformat": 4,
  "nbformat_minor": 0,
  "metadata": {
    "colab": {
      "provenance": [],
      "authorship_tag": "ABX9TyNvM+29Tm79ugXqMlDeLPPe",
      "include_colab_link": true
    },
    "kernelspec": {
      "name": "python3",
      "display_name": "Python 3"
    },
    "language_info": {
      "name": "python"
    }
  },
  "cells": [
    {
      "cell_type": "markdown",
      "metadata": {
        "id": "view-in-github",
        "colab_type": "text"
      },
      "source": [
        "<a href=\"https://colab.research.google.com/github/rishi12jn/Predictive-analytics-Lab/blob/main/LAB3.ipynb\" target=\"_parent\"><img src=\"https://colab.research.google.com/assets/colab-badge.svg\" alt=\"Open In Colab\"/></a>"
      ]
    },
    {
      "cell_type": "code",
      "execution_count": 1,
      "metadata": {
        "colab": {
          "base_uri": "https://localhost:8080/"
        },
        "id": "5PRSnvSYjMIO",
        "outputId": "f8e96ae0-645a-4261-cb32-bcb6f8155075"
      },
      "outputs": [
        {
          "output_type": "stream",
          "name": "stdout",
          "text": [
            "[1 2 3 4 5]\n"
          ]
        }
      ],
      "source": [
        "import numpy as np\n",
        "arr_1d = np.array([1, 2, 3, 4, 5])\n",
        "print(arr_1d)"
      ]
    },
    {
      "cell_type": "code",
      "source": [
        "import numpy as np\n",
        "arr1d_arange = np.arange(0, 10, 2)\n",
        "print(arr1d_arange)"
      ],
      "metadata": {
        "colab": {
          "base_uri": "https://localhost:8080/"
        },
        "id": "Z8k-eM1yje5H",
        "outputId": "492ba35f-c86e-4750-a7ed-590961293046"
      },
      "execution_count": 2,
      "outputs": [
        {
          "output_type": "stream",
          "name": "stdout",
          "text": [
            "[0 2 4 6 8]\n"
          ]
        }
      ]
    },
    {
      "cell_type": "code",
      "source": [
        "import numpy as np\n",
        "arr1d_linspace = np.linspace(0, 1, 5)\n",
        "print(arr1d_linspace)"
      ],
      "metadata": {
        "colab": {
          "base_uri": "https://localhost:8080/"
        },
        "id": "8zN01TAXjitm",
        "outputId": "7b9cb799-8a7c-41c2-bedc-346b327bf288"
      },
      "execution_count": 3,
      "outputs": [
        {
          "output_type": "stream",
          "name": "stdout",
          "text": [
            "[0.   0.25 0.5  0.75 1.  ]\n"
          ]
        }
      ]
    },
    {
      "cell_type": "code",
      "source": [
        "import numpy as np\n",
        "arr_2d = np.array([[1, 2, 3], [4, 5, 6]])\n",
        "print(arr_2d)"
      ],
      "metadata": {
        "colab": {
          "base_uri": "https://localhost:8080/"
        },
        "id": "W9ijYvqgjnE9",
        "outputId": "2c8c0a48-f854-4961-c404-13d4435ad72e"
      },
      "execution_count": 4,
      "outputs": [
        {
          "output_type": "stream",
          "name": "stdout",
          "text": [
            "[[1 2 3]\n",
            " [4 5 6]]\n"
          ]
        }
      ]
    },
    {
      "cell_type": "code",
      "source": [
        "import numpy as np\n",
        "arr2d_reshaped = np.arange(6).reshape(2, 3)\n",
        "print(arr2d_reshaped)"
      ],
      "metadata": {
        "colab": {
          "base_uri": "https://localhost:8080/"
        },
        "id": "Ph0Pk8bcjsuL",
        "outputId": "94f5de0d-ecad-4d07-edfb-d979dcdfeaa7"
      },
      "execution_count": 5,
      "outputs": [
        {
          "output_type": "stream",
          "name": "stdout",
          "text": [
            "[[0 1 2]\n",
            " [3 4 5]]\n"
          ]
        }
      ]
    },
    {
      "cell_type": "code",
      "source": [
        "import numpy as np\n",
        "arr_3d = np.array([[[1, 2, 3], [4, 5, 6]], [[7, 8, 9], [10, 11, 12]]])\n",
        "print(arr_3d)"
      ],
      "metadata": {
        "colab": {
          "base_uri": "https://localhost:8080/"
        },
        "id": "W9cGDxXPjvoV",
        "outputId": "505b96cd-ab9d-4b6e-9e8f-e9d63d06157e"
      },
      "execution_count": 6,
      "outputs": [
        {
          "output_type": "stream",
          "name": "stdout",
          "text": [
            "[[[ 1  2  3]\n",
            "  [ 4  5  6]]\n",
            "\n",
            " [[ 7  8  9]\n",
            "  [10 11 12]]]\n"
          ]
        }
      ]
    },
    {
      "cell_type": "code",
      "source": [
        "import numpy as np\n",
        "arr3d_reshaped = np.arange(8).reshape(2, 2, 2)\n",
        "print(arr3d_reshaped)"
      ],
      "metadata": {
        "colab": {
          "base_uri": "https://localhost:8080/"
        },
        "id": "hOfCtBtGj0vP",
        "outputId": "61d7543c-185a-4331-f95d-93eeead06cf5"
      },
      "execution_count": 7,
      "outputs": [
        {
          "output_type": "stream",
          "name": "stdout",
          "text": [
            "[[[0 1]\n",
            "  [2 3]]\n",
            "\n",
            " [[4 5]\n",
            "  [6 7]]]\n"
          ]
        }
      ]
    },
    {
      "cell_type": "code",
      "source": [
        "import numpy as np\n",
        "arr_1d = np.array([1, 2, 3, 4, 5])\n",
        "element = arr_1d[2]\n",
        "print(element)"
      ],
      "metadata": {
        "colab": {
          "base_uri": "https://localhost:8080/"
        },
        "id": "iOykMo9_j4wx",
        "outputId": "8727ee07-17c3-4912-c3dd-d8414c67dd3a"
      },
      "execution_count": 8,
      "outputs": [
        {
          "output_type": "stream",
          "name": "stdout",
          "text": [
            "3\n"
          ]
        }
      ]
    },
    {
      "cell_type": "code",
      "source": [
        "import numpy as np\n",
        "arr_1d = np.array([1, 2, 3, 4, 5])\n",
        "slice1d = arr_1d[1:4]\n",
        "print(slice1d)"
      ],
      "metadata": {
        "colab": {
          "base_uri": "https://localhost:8080/"
        },
        "id": "SoE-aUUzj9Sy",
        "outputId": "26c62c4d-22f7-40ef-84d6-e614f58fd568"
      },
      "execution_count": 9,
      "outputs": [
        {
          "output_type": "stream",
          "name": "stdout",
          "text": [
            "[2 3 4]\n"
          ]
        }
      ]
    },
    {
      "cell_type": "code",
      "source": [
        "import numpy as np\n",
        "arr_1d = np.array([1, 2, 3, 4, 5])\n",
        "arr = np.arange(12)\n",
        "arr_reshaped = arr.reshape(3, 4)\n",
        "print(arr_reshaped)"
      ],
      "metadata": {
        "colab": {
          "base_uri": "https://localhost:8080/"
        },
        "id": "2e9YFVSYkCTJ",
        "outputId": "444c126a-661f-4373-f5a5-bfc72135199b"
      },
      "execution_count": 10,
      "outputs": [
        {
          "output_type": "stream",
          "name": "stdout",
          "text": [
            "[[ 0  1  2  3]\n",
            " [ 4  5  6  7]\n",
            " [ 8  9 10 11]]\n"
          ]
        }
      ]
    },
    {
      "cell_type": "code",
      "source": [
        "import numpy as np\n",
        "arr_a = np.array([[1, 2], [3, 4]])\n",
        "arr_b = np.array([[5, 6], [7, 8]])\n",
        "arr_concat = np.concatenate((arr_a, arr_b), axis=0)\n",
        "print(arr_concat)"
      ],
      "metadata": {
        "colab": {
          "base_uri": "https://localhost:8080/"
        },
        "id": "iOoL6nkNkGVr",
        "outputId": "4d5516a8-33b5-4db2-88e4-67a1d70ae88a"
      },
      "execution_count": 11,
      "outputs": [
        {
          "output_type": "stream",
          "name": "stdout",
          "text": [
            "[[1 2]\n",
            " [3 4]\n",
            " [5 6]\n",
            " [7 8]]\n"
          ]
        }
      ]
    },
    {
      "cell_type": "code",
      "source": [
        "import numpy as np\n",
        "arr2d = np.array([[1, 2, 3], [4, 5, 6]])\n",
        "shape = arr2d.shape\n",
        "print(shape)"
      ],
      "metadata": {
        "colab": {
          "base_uri": "https://localhost:8080/"
        },
        "id": "-uicS_hJkIeL",
        "outputId": "e3e84c20-22b5-4300-f5ea-d7886553d4e1"
      },
      "execution_count": 13,
      "outputs": [
        {
          "output_type": "stream",
          "name": "stdout",
          "text": [
            "(2, 3)\n"
          ]
        }
      ]
    },
    {
      "cell_type": "code",
      "source": [
        "import numpy as np\n",
        "arr2d = np.array([[1, 2, 3], [4, 5, 6]])\n",
        "size = arr2d.size\n",
        "print(size)"
      ],
      "metadata": {
        "colab": {
          "base_uri": "https://localhost:8080/"
        },
        "id": "AXosrp1hkP4Y",
        "outputId": "02a9dba3-9d76-4b2a-8fc7-c344da60c8f5"
      },
      "execution_count": 14,
      "outputs": [
        {
          "output_type": "stream",
          "name": "stdout",
          "text": [
            "6\n"
          ]
        }
      ]
    },
    {
      "cell_type": "code",
      "source": [
        "import numpy as np\n",
        "arr2d = np.array([[1, 2, 3], [4, 5, 6]])\n",
        "dtype = arr2d.dtype\n",
        "print(dtype)"
      ],
      "metadata": {
        "colab": {
          "base_uri": "https://localhost:8080/"
        },
        "id": "o_5m8TSVkTJl",
        "outputId": "ad9b48f2-b959-44b0-b0f9-68411b6538a5"
      },
      "execution_count": 15,
      "outputs": [
        {
          "output_type": "stream",
          "name": "stdout",
          "text": [
            "int64\n"
          ]
        }
      ]
    },
    {
      "cell_type": "code",
      "source": [
        "import numpy as np\n",
        "arr2d = np.array([[1, 2, 3], [4, 5, 6]])\n",
        "ndim = arr2d.ndim\n",
        "print(ndim)"
      ],
      "metadata": {
        "colab": {
          "base_uri": "https://localhost:8080/"
        },
        "id": "INmDOJV8kW4k",
        "outputId": "1181f994-1951-41fe-8360-50fa1266e2ff"
      },
      "execution_count": 16,
      "outputs": [
        {
          "output_type": "stream",
          "name": "stdout",
          "text": [
            "2\n"
          ]
        }
      ]
    },
    {
      "cell_type": "code",
      "source": [
        "import numpy as np\n",
        "arr2d = np.array([[1, 2, 3], [4, 5, 6]])\n",
        "\n",
        "arr2d = np.arange(8)\n",
        "arr_reshaped = arr2d.reshape(2, 4)\n",
        "print(arr_reshaped)"
      ],
      "metadata": {
        "colab": {
          "base_uri": "https://localhost:8080/"
        },
        "id": "rtw_z0HMkaDz",
        "outputId": "fe381515-f9c6-4a7c-c223-7b2ae0be5112"
      },
      "execution_count": 17,
      "outputs": [
        {
          "output_type": "stream",
          "name": "stdout",
          "text": [
            "[[0 1 2 3]\n",
            " [4 5 6 7]]\n"
          ]
        }
      ]
    },
    {
      "cell_type": "code",
      "source": [
        "import numpy as np\n",
        "arr = np.array([1, 2, 3, 4, 5, 6])\n",
        "arr.resize(2, 3)\n",
        "print(arr)"
      ],
      "metadata": {
        "colab": {
          "base_uri": "https://localhost:8080/"
        },
        "id": "Tq1O0_dokffQ",
        "outputId": "eadd365f-c600-4111-a55b-d33d32978dd0"
      },
      "execution_count": 19,
      "outputs": [
        {
          "output_type": "stream",
          "name": "stdout",
          "text": [
            "[[1 2 3]\n",
            " [4 5 6]]\n"
          ]
        }
      ]
    },
    {
      "cell_type": "code",
      "source": [
        "import numpy as np\n",
        "arr = np.array([[1, 2, 3], [4, 5, 6]])\n",
        "arr_flat = arr.flatten()\n",
        "print(arr_flat)"
      ],
      "metadata": {
        "colab": {
          "base_uri": "https://localhost:8080/"
        },
        "id": "L6pjuv9zkk9j",
        "outputId": "2580aede-8daa-4ff1-97d7-8a33d01e24aa"
      },
      "execution_count": 20,
      "outputs": [
        {
          "output_type": "stream",
          "name": "stdout",
          "text": [
            "[1 2 3 4 5 6]\n"
          ]
        }
      ]
    },
    {
      "cell_type": "code",
      "source": [
        "import pandas as pd\n",
        "import numpy as np\n",
        "\n",
        "df = pd.read_csv('Book1.csv')\n",
        "\n",
        "def prob(age_col, age_value, buy_col, buy_value):\n",
        "    count = 0\n",
        "    total = len(age_col)\n",
        "    for age, buy in zip(age_col, buy_col):\n",
        "        if age == age_value and buy == buy_value:\n",
        "            count += 1\n",
        "    return count / total if total > 0 else 0\n",
        "\n",
        "age = df['age']\n",
        "income = df['income']\n",
        "student = df['student']\n",
        "credit_rating = df['credit rating']\n",
        "buys_computer = df['Class: buys computer']\n",
        "\n",
        "prob_yes = buys_computer.value_counts().get('yes', 0) / len(buys_computer)\n",
        "prob_no = buys_computer.value_counts().get('no', 0) / len(buys_computer)\n",
        "youth_yes_prob = prob(age, 'youth', buys_computer, 'yes')\n",
        "\n",
        "print(f\"Probability of 'youth' and 'yes': {youth_yes_prob}\")\n",
        "print(f\"Probability of 'yes': {prob_yes}\")\n",
        "print(f\"Probability of 'no': {prob_no}\")\n"
      ],
      "metadata": {
        "id": "a1lTkt35kpMY"
      },
      "execution_count": null,
      "outputs": []
    }
  ]
}