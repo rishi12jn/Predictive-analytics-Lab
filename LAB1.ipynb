{
  "nbformat": 4,
  "nbformat_minor": 0,
  "metadata": {
    "colab": {
      "provenance": [],
      "authorship_tag": "ABX9TyM++XhFxAlsK8rfwKBcoGin",
      "include_colab_link": true
    },
    "kernelspec": {
      "name": "python3",
      "display_name": "Python 3"
    },
    "language_info": {
      "name": "python"
    }
  },
  "cells": [
    {
      "cell_type": "markdown",
      "metadata": {
        "id": "view-in-github",
        "colab_type": "text"
      },
      "source": [
        "<a href=\"https://colab.research.google.com/github/rishi12jn/Predictive-analytics-Lab/blob/main/LAB1.ipynb\" target=\"_parent\"><img src=\"https://colab.research.google.com/assets/colab-badge.svg\" alt=\"Open In Colab\"/></a>"
      ]
    },
    {
      "cell_type": "code",
      "execution_count": 1,
      "metadata": {
        "colab": {
          "base_uri": "https://localhost:8080/"
        },
        "id": "fv4QQ1ftdi0h",
        "outputId": "59468f66-5593-48bc-a4ac-c4398eaef352"
      },
      "outputs": [
        {
          "output_type": "stream",
          "name": "stdout",
          "text": [
            "Enter the first number: 3\n",
            "Enter the second number: 4\n",
            "\n",
            "Results:\n",
            "3.0 + 4.0 = 7.0\n",
            "3.0 - 4.0 = -1.0\n",
            "3.0 * 4.0 = 12.0\n",
            "3.0 / 4.0 = 0.75\n",
            "3.0 % 4.0 = 3.0\n"
          ]
        }
      ],
      "source": [
        "num1 = float(input(\"Enter the first number: \"))\n",
        "num2 = float(input(\"Enter the second number: \"))\n",
        "addition = num1 + num2\n",
        "subtraction = num1 - num2\n",
        "multiplication = num1 * num2\n",
        "division = num1 / num2 if num2 != 0 else \"undefined\"\n",
        "modulus = num1 % num2 if num2 != 0 else \"undefined\"\n",
        "print(f\"\\nResults:\")\n",
        "print(f\"{num1} + {num2} = {addition}\")\n",
        "print(f\"{num1} - {num2} = {subtraction}\")\n",
        "print(f\"{num1} * {num2} = {multiplication}\")\n",
        "print(f\"{num1} / {num2} = {division}\")\n",
        "print(f\"{num1} % {num2} = {modulus}\")"
      ]
    },
    {
      "cell_type": "code",
      "source": [
        "integer_var, float_var = 10, 3.14\n",
        "string_var1, string_var2 = \"Hello\", \"World\"\n",
        "boolean_var1, boolean_var2 = True, False\n",
        "sum_result = integer_var + float_var\n",
        "difference_result = integer_var - float_var\n",
        "product_result = integer_var * float_var\n",
        "division_result = integer_var / float_var\n",
        "concatenated_string = string_var1 + \" \" + string_var2\n",
        "logical_and = boolean_var1 and boolean_var2\n",
        "logical_or = boolean_var1 or boolean_var2\n",
        "logical_not = not boolean_var1\n",
        "print(f\"Sum: {sum_result}, Difference: {difference_result}, Product: {product_result}, Division: {division_result}\")\n",
        "print(f\"Concatenated String: {concatenated_string}\")\n",
        "print(f\"AND: {logical_and}, OR: {logical_or}, NOT: {logical_not}\")\n"
      ],
      "metadata": {
        "colab": {
          "base_uri": "https://localhost:8080/"
        },
        "id": "3OBflJmfdv0O",
        "outputId": "1cdf7fac-b704-4135-f92b-f09e666ea2b5"
      },
      "execution_count": 2,
      "outputs": [
        {
          "output_type": "stream",
          "name": "stdout",
          "text": [
            "Sum: 13.14, Difference: 6.859999999999999, Product: 31.400000000000002, Division: 3.184713375796178\n",
            "Concatenated String: Hello World\n",
            "AND: False, OR: True, NOT: False\n"
          ]
        }
      ]
    },
    {
      "cell_type": "code",
      "source": [
        "name = input(\"Enter your name: \")\n",
        "print(f\"Hello, {name}!\")\n",
        "birth_year = int(input(\"Enter your birth year: \"))\n",
        "current_year = 2024\n",
        "age = current_year - birth_year\n",
        "print(f\"{name}, you are {age} years old.\")"
      ],
      "metadata": {
        "colab": {
          "base_uri": "https://localhost:8080/"
        },
        "id": "ThKYl9dAeDvu",
        "outputId": "c6fda2a7-083c-42bd-eb5d-f85e0cbd93d8"
      },
      "execution_count": 3,
      "outputs": [
        {
          "output_type": "stream",
          "name": "stdout",
          "text": [
            "Enter your name: Rishi\n",
            "Hello, Rishi!\n",
            "Enter your birth year: 2005\n",
            "Rishi, you are 19 years old.\n"
          ]
        }
      ]
    },
    {
      "cell_type": "code",
      "source": [
        "number = int(input(\"Enter a number: \"))\n",
        "if number % 2 == 0:\n",
        "  print(f\"{number} is even.\")\n",
        "else:\n",
        "  print(f\"{number} is odd.\")"
      ],
      "metadata": {
        "colab": {
          "base_uri": "https://localhost:8080/"
        },
        "id": "NiekNHGreJ2U",
        "outputId": "704398a3-eec2-4855-a3e5-afbec14ddbe1"
      },
      "execution_count": 4,
      "outputs": [
        {
          "output_type": "stream",
          "name": "stdout",
          "text": [
            "Enter a number: 25\n",
            "25 is odd.\n"
          ]
        }
      ]
    },
    {
      "cell_type": "code",
      "source": [
        "print(\"Using for loop:\")\n",
        "for number in range(1, 11):\n",
        "  print(number)\n",
        "print(\"\\nUsing while loop:\")\n",
        "number = 1\n",
        "while number <= 10:\n",
        "  print(number)\n",
        "  number += 1"
      ],
      "metadata": {
        "colab": {
          "base_uri": "https://localhost:8080/"
        },
        "id": "dzDk_bk1eTfk",
        "outputId": "a93af060-8fe7-4f13-9beb-cfe30283072a"
      },
      "execution_count": 5,
      "outputs": [
        {
          "output_type": "stream",
          "name": "stdout",
          "text": [
            "Using for loop:\n",
            "1\n",
            "2\n",
            "3\n",
            "4\n",
            "5\n",
            "6\n",
            "7\n",
            "8\n",
            "9\n",
            "10\n",
            "\n",
            "Using while loop:\n",
            "1\n",
            "2\n",
            "3\n",
            "4\n",
            "5\n",
            "6\n",
            "7\n",
            "8\n",
            "9\n",
            "10\n"
          ]
        }
      ]
    },
    {
      "cell_type": "code",
      "source": [
        "fruits = [\"apple\", \"banana\", \"cherry\", \"date\"]\n",
        "print(\"First fruit:\", fruits[0])\n",
        "print(\"Third fruit:\", fruits[2])\n",
        "fruits[1] = \"blueberry\"\n",
        "print(\"\\nModified list:\", fruits)\n",
        "fruits.append(\"elderberry\")\n",
        "print(\"\\nList after adding 'elderberry':\", fruits)\n",
        "fruits.remove(\"date\")\n",
        "print(\"List after removing 'date':\", fruits)\n",
        "length = len(fruits)\n",
        "print(\"\\nLength of the list:\", length)\n",
        "fruits.sort()\n",
        "print(\"\\nList sorted in ascending order:\", fruits)\n",
        "fruits.sort(reverse=True)\n",
        "print(\"List sorted in descending order:\", fruits)"
      ],
      "metadata": {
        "colab": {
          "base_uri": "https://localhost:8080/"
        },
        "id": "9XPo7cabeeyr",
        "outputId": "0efce1dc-09e5-438a-9803-706500cdf7a4"
      },
      "execution_count": 7,
      "outputs": [
        {
          "output_type": "stream",
          "name": "stdout",
          "text": [
            "First fruit: apple\n",
            "Third fruit: cherry\n",
            "\n",
            "Modified list: ['apple', 'blueberry', 'cherry', 'date']\n",
            "\n",
            "List after adding 'elderberry': ['apple', 'blueberry', 'cherry', 'date', 'elderberry']\n",
            "List after removing 'date': ['apple', 'blueberry', 'cherry', 'elderberry']\n",
            "\n",
            "Length of the list: 4\n",
            "\n",
            "List sorted in ascending order: ['apple', 'blueberry', 'cherry', 'elderberry']\n",
            "List sorted in descending order: ['elderberry', 'cherry', 'blueberry', 'apple']\n"
          ]
        }
      ]
    },
    {
      "cell_type": "code",
      "source": [
        "my_string = \"Hello, From Rishi!\"\n",
        "length = len(my_string)\n",
        "print(f\"Length of the string: {length}\")\n",
        "uppercase_string = my_string.upper()\n",
        "lowercase_string = my_string.lower()\n",
        "print(f\"Uppercase: {uppercase_string}\")\n",
        "print(f\"Lowercase: {lowercase_string}\")\n",
        "substring = \"Python\"\n",
        "contains_substring = substring in my_string\n",
        "print(f\"Does the string contain '{substring}'? {contains_substring}\")\n",
        "words_list = my_string.split()\n",
        "print(\"List of words:\", words_list)"
      ],
      "metadata": {
        "colab": {
          "base_uri": "https://localhost:8080/"
        },
        "id": "TRgMpgCEenu2",
        "outputId": "16019116-30c7-4e2f-a9ba-fd5f896a6fae"
      },
      "execution_count": 9,
      "outputs": [
        {
          "output_type": "stream",
          "name": "stdout",
          "text": [
            "Length of the string: 18\n",
            "Uppercase: HELLO, FROM RISHI!\n",
            "Lowercase: hello, from rishi!\n",
            "Does the string contain 'Python'? False\n",
            "List of words: ['Hello,', 'From', 'Rishi!']\n"
          ]
        }
      ]
    },
    {
      "cell_type": "code",
      "source": [
        "numbers = [5, 12, 3, 45, 8, 23, 7]\n",
        "largest_number = max(numbers)\n",
        "smallest_number = min(numbers)\n",
        "print(f\"The largest number in the list is: {largest_number}\")\n",
        "print(f\"The smallest number in the list is: {smallest_number}\")"
      ],
      "metadata": {
        "colab": {
          "base_uri": "https://localhost:8080/"
        },
        "id": "861ogiTAeujU",
        "outputId": "1dc889ed-b10d-4aa0-9620-af777a1467bd"
      },
      "execution_count": 10,
      "outputs": [
        {
          "output_type": "stream",
          "name": "stdout",
          "text": [
            "The largest number in the list is: 45\n",
            "The smallest number in the list is: 3\n"
          ]
        }
      ]
    }
  ]
}