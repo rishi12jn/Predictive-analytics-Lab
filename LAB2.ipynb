{
  "nbformat": 4,
  "nbformat_minor": 0,
  "metadata": {
    "colab": {
      "provenance": [],
      "authorship_tag": "ABX9TyN1r54VFtfas+2+Ruh0aE3L",
      "include_colab_link": true
    },
    "kernelspec": {
      "name": "python3",
      "display_name": "Python 3"
    },
    "language_info": {
      "name": "python"
    }
  },
  "cells": [
    {
      "cell_type": "markdown",
      "metadata": {
        "id": "view-in-github",
        "colab_type": "text"
      },
      "source": [
        "<a href=\"https://colab.research.google.com/github/rishi12jn/Predictive-analytics-Lab/blob/main/LAB2.ipynb\" target=\"_parent\"><img src=\"https://colab.research.google.com/assets/colab-badge.svg\" alt=\"Open In Colab\"/></a>"
      ]
    },
    {
      "cell_type": "code",
      "execution_count": 3,
      "metadata": {
        "colab": {
          "base_uri": "https://localhost:8080/"
        },
        "id": "DPP175QWfOql",
        "outputId": "1ebef01e-aa22-4a7e-c3f3-79cec4144b86"
      },
      "outputs": [
        {
          "output_type": "stream",
          "name": "stdout",
          "text": [
            "First color: red\n",
            "Third color: blue\n",
            "Error: 'tuple' object does not support item assignment\n",
            "Number of occurrences of 'blue': 2\n"
          ]
        }
      ],
      "source": [
        "colors = (\"red\", \"green\", \"blue\", \"yellow\", \"blue\")\n",
        "print(\"First color:\", colors[0])\n",
        "print(\"Third color:\", colors[2])\n",
        "try:\n",
        "  colors[1] = \"purple\"\n",
        "except TypeError as e:\n",
        "  print(\"Error:\", e)\n",
        "element_to_count = \"blue\"\n",
        "count = colors.count(element_to_count)\n",
        "print(f\"Number of occurrences of '{element_to_count}':\", count)\n"
      ]
    },
    {
      "cell_type": "code",
      "source": [
        "person_info = { \"name\": \"Rishi\", \"age\": 19,\n",
        "\"city\": \"New Delhi\"\n",
        "}\n",
        "print(\"Name:\", person_info[\"name\"])\n",
        "print(\"Age:\", person_info[\"age\"])\n",
        "print(\"City:\", person_info[\"city\"])\n",
        "person_info[\"email\"] = \"rishi@.com\"\n",
        "print(\"\\nDictionary after adding email:\", person_info)\n",
        "person_info[\"age\"] = 20\n",
        "print(\"Dictionary after modifying age:\", person_info)\n",
        "key_to_check = \"city\"\n",
        "if key_to_check in person_info:\n",
        "  print(f\"\\n'{key_to_check}' exists in the dictionary.\")\n",
        "else:\n",
        "  print(f\"'{key_to_check}' does not exist in the dictionary.\")\n",
        "keys = list(person_info.keys())\n",
        "values = list(person_info.values())\n",
        "print(\"\\nKeys:\", keys)\n",
        "print(\"Values:\", values)"
      ],
      "metadata": {
        "colab": {
          "base_uri": "https://localhost:8080/"
        },
        "id": "xmHjommAfm2N",
        "outputId": "5cd12407-fb79-467e-95c6-1ca691668005"
      },
      "execution_count": 5,
      "outputs": [
        {
          "output_type": "stream",
          "name": "stdout",
          "text": [
            "Name: Rishi\n",
            "Age: 19\n",
            "City: New Delhi\n",
            "\n",
            "Dictionary after adding email: {'name': 'Rishi', 'age': 19, 'city': 'New Delhi', 'email': 'rishi@.com'}\n",
            "Dictionary after modifying age: {'name': 'Rishi', 'age': 20, 'city': 'New Delhi', 'email': 'rishi@.com'}\n",
            "\n",
            "'city' exists in the dictionary.\n",
            "\n",
            "Keys: ['name', 'age', 'city', 'email']\n",
            "Values: ['Rishi', 20, 'New Delhi', 'rishi@.com']\n"
          ]
        }
      ]
    },
    {
      "cell_type": "code",
      "source": [
        "my_list = [1, 2, 3, 4, 5]\n",
        "print(\"Original list:\", my_list)\n",
        "my_list[2] = 99\n",
        "print(\"List after modification:\", my_list)\n",
        "my_tuple = (10, 20, 30, 40, 50)\n",
        "print(\"\\nOriginal tuple:\", my_tuple)\n",
        "try:\n",
        "  my_tuple[2] = 99\n",
        "except TypeError as e:\n",
        "  print(\"Error while modifying tuple:\", e)"
      ],
      "metadata": {
        "colab": {
          "base_uri": "https://localhost:8080/"
        },
        "id": "EG89xR99gKUy",
        "outputId": "e41432e9-a7cb-4959-b6b3-83bdf9e1cbdc"
      },
      "execution_count": 7,
      "outputs": [
        {
          "output_type": "stream",
          "name": "stdout",
          "text": [
            "Original list: [1, 2, 3, 4, 5]\n",
            "List after modification: [1, 2, 99, 4, 5]\n",
            "\n",
            "Original tuple: (10, 20, 30, 40, 50)\n",
            "Error while modifying tuple: 'tuple' object does not support item assignment\n"
          ]
        }
      ]
    },
    {
      "cell_type": "code",
      "source": [
        "number = int(input(\"Enter a number to print its multiplication table: \"))\n",
        "print(f\"\\nMultiplication table for {number}:\")\n",
        "for i in range(1, 11):\n",
        "  product = number * i\n",
        "  print(f\"{number} x {i} = {product}\")"
      ],
      "metadata": {
        "colab": {
          "base_uri": "https://localhost:8080/"
        },
        "id": "UqKo96l-gUZF",
        "outputId": "c47ffb70-4e64-4bd2-aed4-b1bff3dbab49"
      },
      "execution_count": 8,
      "outputs": [
        {
          "output_type": "stream",
          "name": "stdout",
          "text": [
            "Enter a number to print its multiplication table: 10\n",
            "\n",
            "Multiplication table for 10:\n",
            "10 x 1 = 10\n",
            "10 x 2 = 20\n",
            "10 x 3 = 30\n",
            "10 x 4 = 40\n",
            "10 x 5 = 50\n",
            "10 x 6 = 60\n",
            "10 x 7 = 70\n",
            "10 x 8 = 80\n",
            "10 x 9 = 90\n",
            "10 x 10 = 100\n"
          ]
        }
      ]
    },
    {
      "cell_type": "code",
      "source": [
        "def factorial(n):\n",
        "  result = 1\n",
        "  if n < 0:\n",
        "    return \"Factorial is not defined for negative numbers\"\n",
        "    for i in range(1, n + 1):\n",
        "      result *= i\n",
        "      return result\n",
        "    number = int(input(\"Enter a number to find its factorial: \"))\n",
        "    print(f\"The factorial of {number} is: {factorial(number)}\")"
      ],
      "metadata": {
        "id": "AIoKTq29gaJZ"
      },
      "execution_count": 10,
      "outputs": []
    },
    {
      "cell_type": "code",
      "source": [
        "num = int(input(\"Enter the number:\"))\n",
        "if num > 1:\n",
        "  for i in range(2, (num//2)+1):\n",
        "    if (num % i) == 0:\n",
        "      print(num, \"is not a prime number\")\n",
        "      break\n",
        "  else:\n",
        "    print(num, \"is a prime number\")\n",
        "else:\n",
        "  print(num, \"is not a prime number\")"
      ],
      "metadata": {
        "colab": {
          "base_uri": "https://localhost:8080/"
        },
        "id": "eRanDO2_g8I8",
        "outputId": "8e3125f3-c96b-4c4c-ce2f-11dee9a4c810"
      },
      "execution_count": 11,
      "outputs": [
        {
          "output_type": "stream",
          "name": "stdout",
          "text": [
            "Enter the number:43\n",
            "43 is a prime number\n"
          ]
        }
      ]
    },
    {
      "cell_type": "code",
      "source": [
        "sum_of_evens = sum(number for number in range(1, 101) if number % 2 == 0)\n",
        "print(\"The sum of all even numbers between 1 and 100 is:\", sum_of_evens)\n"
      ],
      "metadata": {
        "colab": {
          "base_uri": "https://localhost:8080/"
        },
        "id": "zobiquCxhL62",
        "outputId": "0c96bdc0-9cf7-465e-aeef-8ea276a2b5c3"
      },
      "execution_count": 13,
      "outputs": [
        {
          "output_type": "stream",
          "name": "stdout",
          "text": [
            "The sum of all even numbers between 1 and 100 is: 2550\n"
          ]
        }
      ]
    },
    {
      "cell_type": "code",
      "source": [
        "def calculator():\n",
        "    while True:\n",
        "        print(\"\\nSimple Calculator\")\n",
        "        print(\"1. Add\")\n",
        "        print(\"2. Subtract\")\n",
        "        print(\"3. Multiply\")\n",
        "        print(\"4. Divide\")\n",
        "        print(\"5. Exit\")\n",
        "\n",
        "        choice = input(\"Enter choice (1/2/3/4/5): \")\n",
        "\n",
        "        if choice == '5':\n",
        "            print(\"Exiting the calculator. Goodbye!\")\n",
        "            break\n",
        "\n",
        "        if choice not in ['1', '2', '3', '4']:\n",
        "            print(\"Invalid input, please try again.\")\n",
        "            continue\n",
        "\n",
        "        try:\n",
        "            num1 = float(input(\"Enter first number: \"))\n",
        "            num2 = float(input(\"Enter second number: \"))\n",
        "        except ValueError:\n",
        "            print(\"Invalid input, please enter numeric values.\")\n",
        "            continue\n",
        "\n",
        "        if choice == '1':\n",
        "            result = num1 + num2\n",
        "            print(f\"Result: {num1} + {num2} = {result}\")\n",
        "        elif choice == '2':\n",
        "            result = num1 - num2\n",
        "            print(f\"Result: {num1} - {num2} = {result}\")\n",
        "        elif choice == '3':\n",
        "            result = num1 * num2\n",
        "            print(f\"Result: {num1} * {num2} = {result}\")\n",
        "        elif choice == '4':\n",
        "            if num2 == 0:\n",
        "                print(\"Error! Division by zero is not allowed.\")\n",
        "            else:\n",
        "                result = num1 / num2\n",
        "                print(f\"Result: {num1} / {num2} = {result}\")\n",
        "\n",
        "calculator()\n"
      ],
      "metadata": {
        "colab": {
          "base_uri": "https://localhost:8080/"
        },
        "id": "QIEWWzRTheM-",
        "outputId": "226070ac-e33b-4902-d329-98b21188ce6d"
      },
      "execution_count": 17,
      "outputs": [
        {
          "output_type": "stream",
          "name": "stdout",
          "text": [
            "\n",
            "Simple Calculator\n",
            "1. Add\n",
            "2. Subtract\n",
            "3. Multiply\n",
            "4. Divide\n",
            "5. Exit\n",
            "Enter choice (1/2/3/4/5): 1\n",
            "Enter first number: 12\n",
            "Enter second number: 23\n",
            "Result: 12.0 + 23.0 = 35.0\n",
            "\n",
            "Simple Calculator\n",
            "1. Add\n",
            "2. Subtract\n",
            "3. Multiply\n",
            "4. Divide\n",
            "5. Exit\n",
            "Enter choice (1/2/3/4/5): 5\n",
            "Exiting the calculator. Goodbye!\n"
          ]
        }
      ]
    },
    {
      "cell_type": "code",
      "source": [],
      "metadata": {
        "id": "_XpMsg3Ph00x"
      },
      "execution_count": null,
      "outputs": []
    }
  ]
}