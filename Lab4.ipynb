{
  "nbformat": 4,
  "nbformat_minor": 0,
  "metadata": {
    "colab": {
      "provenance": [],
      "gpuType": "T4",
      "authorship_tag": "ABX9TyOgqTkpSZooQeaduwbTBpsy",
      "include_colab_link": true
    },
    "kernelspec": {
      "name": "python3",
      "display_name": "Python 3"
    },
    "language_info": {
      "name": "python"
    },
    "accelerator": "GPU"
  },
  "cells": [
    {
      "cell_type": "markdown",
      "metadata": {
        "id": "view-in-github",
        "colab_type": "text"
      },
      "source": [
        "<a href=\"https://colab.research.google.com/github/rishi12jn/Predictive-analytics-Lab/blob/main/Lab4.ipynb\" target=\"_parent\"><img src=\"https://colab.research.google.com/assets/colab-badge.svg\" alt=\"Open In Colab\"/></a>"
      ]
    },
    {
      "cell_type": "code",
      "execution_count": 1,
      "metadata": {
        "colab": {
          "base_uri": "https://localhost:8080/"
        },
        "id": "0KKLpnzlNTM3",
        "outputId": "5816ec01-f2ef-45ac-9925-dc46f9d9246b"
      },
      "outputs": [
        {
          "output_type": "stream",
          "name": "stdout",
          "text": [
            "   survived  pclass     sex   age  sibsp  parch     fare embarked  class  \\\n",
            "0         0       3    male  22.0      1      0   7.2500        S  Third   \n",
            "1         1       1  female  38.0      1      0  71.2833        C  First   \n",
            "2         1       3  female  26.0      0      0   7.9250        S  Third   \n",
            "3         1       1  female  35.0      1      0  53.1000        S  First   \n",
            "4         0       3    male  35.0      0      0   8.0500        S  Third   \n",
            "\n",
            "     who  adult_male deck  embark_town alive  alone  \n",
            "0    man        True  NaN  Southampton    no  False  \n",
            "1  woman       False    C    Cherbourg   yes  False  \n",
            "2  woman       False  NaN  Southampton   yes   True  \n",
            "3  woman       False    C  Southampton   yes  False  \n",
            "4    man        True  NaN  Southampton    no   True  \n",
            "<class 'pandas.core.frame.DataFrame'>\n",
            "RangeIndex: 891 entries, 0 to 890\n",
            "Data columns (total 15 columns):\n",
            " #   Column       Non-Null Count  Dtype   \n",
            "---  ------       --------------  -----   \n",
            " 0   survived     891 non-null    int64   \n",
            " 1   pclass       891 non-null    int64   \n",
            " 2   sex          891 non-null    object  \n",
            " 3   age          714 non-null    float64 \n",
            " 4   sibsp        891 non-null    int64   \n",
            " 5   parch        891 non-null    int64   \n",
            " 6   fare         891 non-null    float64 \n",
            " 7   embarked     889 non-null    object  \n",
            " 8   class        891 non-null    category\n",
            " 9   who          891 non-null    object  \n",
            " 10  adult_male   891 non-null    bool    \n",
            " 11  deck         203 non-null    category\n",
            " 12  embark_town  889 non-null    object  \n",
            " 13  alive        891 non-null    object  \n",
            " 14  alone        891 non-null    bool    \n",
            "dtypes: bool(2), category(2), float64(2), int64(4), object(5)\n",
            "memory usage: 80.7+ KB\n",
            "None\n"
          ]
        }
      ],
      "source": [
        "import seaborn as sns\n",
        "\n",
        "# Load Titanic dataset\n",
        "df = sns.load_dataset(\"titanic\")\n",
        "\n",
        "# Inspect the data\n",
        "print(df.head())\n",
        "print(df.info())"
      ]
    },
    {
      "cell_type": "code",
      "source": [
        "# Selecting specific columns\n",
        "print(df['age'])  # Display the 'age' column\n",
        "\n",
        "# Selecting multiple columns\n",
        "print(df[['age', 'fare', 'embarked']])\n",
        "\n",
        "# Selecting rows using slicing\n",
        "print(df[10:20])  # Rows 10 to 19\n",
        "\n",
        "# Using loc to select rows and specific columns\n",
        "print(df.loc[0:5, ['sex', 'age', 'fare']])  # First 5 rows with 'sex', 'age', 'fare'\n",
        "\n",
        "# Using iloc for position-based indexing\n",
        "print(df.iloc[0:5, 0:3])  # First 5 rows, first 3 columns"
      ],
      "metadata": {
        "colab": {
          "base_uri": "https://localhost:8080/"
        },
        "id": "SpYiJ9kBNfnY",
        "outputId": "4a4c0537-8c0c-4ff0-814f-207d89a99b18"
      },
      "execution_count": 2,
      "outputs": [
        {
          "output_type": "stream",
          "name": "stdout",
          "text": [
            "0      22.0\n",
            "1      38.0\n",
            "2      26.0\n",
            "3      35.0\n",
            "4      35.0\n",
            "       ... \n",
            "886    27.0\n",
            "887    19.0\n",
            "888     NaN\n",
            "889    26.0\n",
            "890    32.0\n",
            "Name: age, Length: 891, dtype: float64\n",
            "      age     fare embarked\n",
            "0    22.0   7.2500        S\n",
            "1    38.0  71.2833        C\n",
            "2    26.0   7.9250        S\n",
            "3    35.0  53.1000        S\n",
            "4    35.0   8.0500        S\n",
            "..    ...      ...      ...\n",
            "886  27.0  13.0000        S\n",
            "887  19.0  30.0000        S\n",
            "888   NaN  23.4500        S\n",
            "889  26.0  30.0000        C\n",
            "890  32.0   7.7500        Q\n",
            "\n",
            "[891 rows x 3 columns]\n",
            "    survived  pclass     sex   age  sibsp  parch     fare embarked   class  \\\n",
            "10         1       3  female   4.0      1      1  16.7000        S   Third   \n",
            "11         1       1  female  58.0      0      0  26.5500        S   First   \n",
            "12         0       3    male  20.0      0      0   8.0500        S   Third   \n",
            "13         0       3    male  39.0      1      5  31.2750        S   Third   \n",
            "14         0       3  female  14.0      0      0   7.8542        S   Third   \n",
            "15         1       2  female  55.0      0      0  16.0000        S  Second   \n",
            "16         0       3    male   2.0      4      1  29.1250        Q   Third   \n",
            "17         1       2    male   NaN      0      0  13.0000        S  Second   \n",
            "18         0       3  female  31.0      1      0  18.0000        S   Third   \n",
            "19         1       3  female   NaN      0      0   7.2250        C   Third   \n",
            "\n",
            "      who  adult_male deck  embark_town alive  alone  \n",
            "10  child       False    G  Southampton   yes  False  \n",
            "11  woman       False    C  Southampton   yes   True  \n",
            "12    man        True  NaN  Southampton    no   True  \n",
            "13    man        True  NaN  Southampton    no  False  \n",
            "14  child       False  NaN  Southampton    no   True  \n",
            "15  woman       False  NaN  Southampton   yes   True  \n",
            "16  child       False  NaN   Queenstown    no  False  \n",
            "17    man        True  NaN  Southampton   yes   True  \n",
            "18  woman       False  NaN  Southampton    no  False  \n",
            "19  woman       False  NaN    Cherbourg   yes   True  \n",
            "      sex   age     fare\n",
            "0    male  22.0   7.2500\n",
            "1  female  38.0  71.2833\n",
            "2  female  26.0   7.9250\n",
            "3  female  35.0  53.1000\n",
            "4    male  35.0   8.0500\n",
            "5    male   NaN   8.4583\n",
            "   survived  pclass     sex\n",
            "0         0       3    male\n",
            "1         1       1  female\n",
            "2         1       3  female\n",
            "3         1       1  female\n",
            "4         0       3    male\n"
          ]
        }
      ]
    },
    {
      "cell_type": "code",
      "source": [
        "# Check for missing values\n",
        "print(df.isnull().sum())"
      ],
      "metadata": {
        "colab": {
          "base_uri": "https://localhost:8080/"
        },
        "id": "vK7InRa3Nipm",
        "outputId": "6d2978ef-d1b0-45eb-9d66-f868af69215b"
      },
      "execution_count": 3,
      "outputs": [
        {
          "output_type": "stream",
          "name": "stdout",
          "text": [
            "survived         0\n",
            "pclass           0\n",
            "sex              0\n",
            "age            177\n",
            "sibsp            0\n",
            "parch            0\n",
            "fare             0\n",
            "embarked         2\n",
            "class            0\n",
            "who              0\n",
            "adult_male       0\n",
            "deck           688\n",
            "embark_town      2\n",
            "alive            0\n",
            "alone            0\n",
            "dtype: int64\n"
          ]
        }
      ]
    },
    {
      "cell_type": "code",
      "source": [
        "# Fill missing age values with median\n",
        "df['age'].fillna(df['age'].median(), inplace=True)\n",
        "\n",
        "# Drop rows where 'embarked' is missing\n",
        "df.dropna(subset=['embarked'], inplace=True)\n",
        "\n",
        "# Interpolation for missing values in 'fare'\n",
        "df['fare'] = df['fare'].interpolate()\n",
        "\n",
        "# Check if missing values are handled\n",
        "print(df.isnull().sum())"
      ],
      "metadata": {
        "colab": {
          "base_uri": "https://localhost:8080/"
        },
        "id": "Wu2e75tNNlWh",
        "outputId": "db4a254c-3793-4f0d-8d90-c54248f569b8"
      },
      "execution_count": 4,
      "outputs": [
        {
          "output_type": "stream",
          "name": "stdout",
          "text": [
            "survived         0\n",
            "pclass           0\n",
            "sex              0\n",
            "age              0\n",
            "sibsp            0\n",
            "parch            0\n",
            "fare             0\n",
            "embarked         0\n",
            "class            0\n",
            "who              0\n",
            "adult_male       0\n",
            "deck           688\n",
            "embark_town      0\n",
            "alive            0\n",
            "alone            0\n",
            "dtype: int64\n"
          ]
        },
        {
          "output_type": "stream",
          "name": "stderr",
          "text": [
            "<ipython-input-4-1812f08fe385>:2: FutureWarning: A value is trying to be set on a copy of a DataFrame or Series through chained assignment using an inplace method.\n",
            "The behavior will change in pandas 3.0. This inplace method will never work because the intermediate object on which we are setting values always behaves as a copy.\n",
            "\n",
            "For example, when doing 'df[col].method(value, inplace=True)', try using 'df.method({col: value}, inplace=True)' or df[col] = df[col].method(value) instead, to perform the operation inplace on the original object.\n",
            "\n",
            "\n",
            "  df['age'].fillna(df['age'].median(), inplace=True)\n"
          ]
        }
      ]
    },
    {
      "cell_type": "code",
      "source": [
        "from sklearn.preprocessing import MinMaxScaler, StandardScaler\n",
        "\n",
        "# Min-Max Scaling\n",
        "scaler = MinMaxScaler()\n",
        "df['fare_scaled'] = scaler.fit_transform(df[['fare']])\n",
        "\n",
        "# Z-Score Scaling\n",
        "scaler = StandardScaler()\n",
        "df['age_zscore'] = scaler.fit_transform(df[['age']])\n",
        "\n",
        "print(df[['fare', 'fare_scaled', 'age', 'age_zscore']].head())"
      ],
      "metadata": {
        "colab": {
          "base_uri": "https://localhost:8080/"
        },
        "id": "fN8RjJYeNoRi",
        "outputId": "43539d23-e8dc-4e54-c2cc-8dc1733df0e9"
      },
      "execution_count": 5,
      "outputs": [
        {
          "output_type": "stream",
          "name": "stdout",
          "text": [
            "      fare  fare_scaled   age  age_zscore\n",
            "0   7.2500     0.014151  22.0   -0.563674\n",
            "1  71.2833     0.139136  38.0    0.669217\n",
            "2   7.9250     0.015469  26.0   -0.255451\n",
            "3  53.1000     0.103644  35.0    0.438050\n",
            "4   8.0500     0.015713  35.0    0.438050\n"
          ]
        }
      ]
    },
    {
      "cell_type": "code",
      "source": [
        "# Group by class and calculate mean age\n",
        "print(df.groupby('class')['age'].mean())"
      ],
      "metadata": {
        "colab": {
          "base_uri": "https://localhost:8080/"
        },
        "id": "fJO_x--MNpHa",
        "outputId": "1fa3fd39-3519-461f-a3a2-b23120a60ee0"
      },
      "execution_count": 6,
      "outputs": [
        {
          "output_type": "stream",
          "name": "stdout",
          "text": [
            "class\n",
            "First     36.688879\n",
            "Second    29.765380\n",
            "Third     25.932627\n",
            "Name: age, dtype: float64\n"
          ]
        },
        {
          "output_type": "stream",
          "name": "stderr",
          "text": [
            "<ipython-input-6-786fdcef463d>:2: FutureWarning: The default of observed=False is deprecated and will be changed to True in a future version of pandas. Pass observed=False to retain current behavior or observed=True to adopt the future default and silence this warning.\n",
            "  print(df.groupby('class')['age'].mean())\n"
          ]
        }
      ]
    }
  ]
}